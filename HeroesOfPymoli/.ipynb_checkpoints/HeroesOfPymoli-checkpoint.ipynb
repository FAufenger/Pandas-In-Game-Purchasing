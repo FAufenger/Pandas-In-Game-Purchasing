{
 "cells": [
  {
   "cell_type": "code",
   "execution_count": 2,
   "metadata": {},
   "outputs": [],
   "source": [
    "#Dependencies\n",
    "import pandas as pd\n",
    "import numpy as np\n",
    "\n",
    "#File load\n",
    "pymoli_purchase_data = \"Resources/HeroesOfPymoli_purchase_data.csv\"\n",
    "\n",
    "#Read file and store into pandas data frame\n",
    "purchase_data_df = pd.read_csv(pymoli_purchase_data)\n"
   ]
  },
  {
   "cell_type": "code",
   "execution_count": 3,
   "metadata": {},
   "outputs": [
    {
     "data": {
      "text/html": [
       "<div>\n",
       "<style scoped>\n",
       "    .dataframe tbody tr th:only-of-type {\n",
       "        vertical-align: middle;\n",
       "    }\n",
       "\n",
       "    .dataframe tbody tr th {\n",
       "        vertical-align: top;\n",
       "    }\n",
       "\n",
       "    .dataframe thead th {\n",
       "        text-align: right;\n",
       "    }\n",
       "</style>\n",
       "<table border=\"1\" class=\"dataframe\">\n",
       "  <thead>\n",
       "    <tr style=\"text-align: right;\">\n",
       "      <th></th>\n",
       "      <th>Total Players</th>\n",
       "    </tr>\n",
       "  </thead>\n",
       "  <tbody>\n",
       "    <tr>\n",
       "      <th>0</th>\n",
       "      <td>576</td>\n",
       "    </tr>\n",
       "  </tbody>\n",
       "</table>\n",
       "</div>"
      ],
      "text/plain": [
       "   Total Players\n",
       "0            576"
      ]
     },
     "execution_count": 3,
     "metadata": {},
     "output_type": "execute_result"
    }
   ],
   "source": [
    "#Player count (total number of players)\n",
    "\n",
    "#Count unique SN\n",
    "player_count = len(purchase_data_df[\"SN\"].unique())\n",
    "\n",
    "#Put above count in a new df\n",
    "player_count_df= pd.DataFrame({\"Total Players\": [player_count]})\n",
    "\n",
    "#Display df\n",
    "player_count_df"
   ]
  },
  {
   "cell_type": "code",
   "execution_count": 4,
   "metadata": {},
   "outputs": [
    {
     "data": {
      "text/html": [
       "<div>\n",
       "<style scoped>\n",
       "    .dataframe tbody tr th:only-of-type {\n",
       "        vertical-align: middle;\n",
       "    }\n",
       "\n",
       "    .dataframe tbody tr th {\n",
       "        vertical-align: top;\n",
       "    }\n",
       "\n",
       "    .dataframe thead th {\n",
       "        text-align: right;\n",
       "    }\n",
       "</style>\n",
       "<table border=\"1\" class=\"dataframe\">\n",
       "  <thead>\n",
       "    <tr style=\"text-align: right;\">\n",
       "      <th></th>\n",
       "      <th>Number of Unique Items</th>\n",
       "      <th>Average Price</th>\n",
       "      <th>Number of Purchases</th>\n",
       "      <th>Total Revenue</th>\n",
       "    </tr>\n",
       "  </thead>\n",
       "  <tbody>\n",
       "    <tr>\n",
       "      <th>0</th>\n",
       "      <td>179</td>\n",
       "      <td>$3.05</td>\n",
       "      <td>780</td>\n",
       "      <td>$2379.77</td>\n",
       "    </tr>\n",
       "  </tbody>\n",
       "</table>\n",
       "</div>"
      ],
      "text/plain": [
       "   Number of Unique Items Average Price  Number of Purchases Total Revenue\n",
       "0                     179         $3.05                  780      $2379.77"
      ]
     },
     "execution_count": 4,
     "metadata": {},
     "output_type": "execute_result"
    }
   ],
   "source": [
    "#Purchase Analysis (total)\n",
    "\n",
    "#Calculate each requested variable    \n",
    "number_unique_items = len(purchase_data_df[\"Item Name\"].unique())\n",
    "average_price = purchase_data_df[\"Price\"].mean(axis=0)\n",
    "number_of_purchases = len(purchase_data_df[\"Purchase ID\"].unique())\n",
    "total_revenue = sum(purchase_data_df[\"Price\"])\n",
    "\n",
    "#Clean up data with currency format\n",
    "average_price = \"${:.2f}\".format(average_price)\n",
    "total_revenue = \"${:.2f}\".format(total_revenue)\n",
    "\n",
    "#Put all calculated variables in a new df\n",
    "purchasing_analysis_df = pd.DataFrame({\"Number of Unique Items\": [number_unique_items],\n",
    "                                       \"Average Price\": [average_price],\n",
    "                                       \"Number of Purchases\": [number_of_purchases],\n",
    "                                       \"Total Revenue\": [total_revenue]})\n",
    "\n",
    "#Display df\n",
    "purchasing_analysis_df\n",
    "\n"
   ]
  },
  {
   "cell_type": "code",
   "execution_count": 8,
   "metadata": {
    "scrolled": true
   },
   "outputs": [
    {
     "data": {
      "text/plain": [
       "Male                     484\n",
       "Female                    81\n",
       "Other / Non-Disclosed     11\n",
       "Name: Gender, dtype: int64"
      ]
     },
     "execution_count": 8,
     "metadata": {},
     "output_type": "execute_result"
    }
   ],
   "source": [
    "#Gender Demographics\n",
    "#Columns: [\"Total Count\", \"Percentage of Players\"]\n",
    "#Rows: [\"Male\". \"Female\", \"Other / Non-Disclosed\"]\n",
    "\n",
    "#Find all unique players\n",
    "unique_player_df = purchase_data_df.drop_duplicates(subset='SN')\n",
    "\n",
    "#Count all unique players by gender and make df\n",
    "gender_count = unique_player_df[\"Gender\"].value_counts()\n",
    "gender_demographics_df = pd.DataFrame(gender_count)\n",
    "\n",
    "#Find total player count and calculate percentage\n",
    "percentage_gender = unique_player_df[\"Gender\"].value_counts(normalize= True).mul(100).round(2).astype(str) + '%'\n",
    "\n",
    "#Add Percentage of Players to df                    \n",
    "gender_demographics_df[\"Percentage of Players\"]= percentage_gender\n",
    "\n",
    "#Rename totals column to clean up data\n",
    "gender_demographics_df = gender_demographics_df.rename(columns={\"Gender\": \"Total Count\"})\n",
    "\n",
    "#Display df\n",
    "gender_demographics_df"
   ]
  },
  {
   "cell_type": "code",
   "execution_count": 11,
   "metadata": {},
   "outputs": [
    {
     "data": {
      "text/html": [
       "<div>\n",
       "<style scoped>\n",
       "    .dataframe tbody tr th:only-of-type {\n",
       "        vertical-align: middle;\n",
       "    }\n",
       "\n",
       "    .dataframe tbody tr th {\n",
       "        vertical-align: top;\n",
       "    }\n",
       "\n",
       "    .dataframe thead th {\n",
       "        text-align: right;\n",
       "    }\n",
       "</style>\n",
       "<table border=\"1\" class=\"dataframe\">\n",
       "  <thead>\n",
       "    <tr style=\"text-align: right;\">\n",
       "      <th></th>\n",
       "      <th>Purchase Count</th>\n",
       "      <th>Average Purchase Price</th>\n",
       "      <th>Total Purchase Value</th>\n",
       "      <th>Avg Total Purchas per Person</th>\n",
       "    </tr>\n",
       "    <tr>\n",
       "      <th>Gender</th>\n",
       "      <th></th>\n",
       "      <th></th>\n",
       "      <th></th>\n",
       "      <th></th>\n",
       "    </tr>\n",
       "  </thead>\n",
       "  <tbody>\n",
       "    <tr>\n",
       "      <th>Female</th>\n",
       "      <td>113</td>\n",
       "      <td>3.20</td>\n",
       "      <td>361.94</td>\n",
       "      <td>4.47</td>\n",
       "    </tr>\n",
       "    <tr>\n",
       "      <th>Male</th>\n",
       "      <td>652</td>\n",
       "      <td>3.02</td>\n",
       "      <td>1967.64</td>\n",
       "      <td>4.07</td>\n",
       "    </tr>\n",
       "    <tr>\n",
       "      <th>Other / Non-Disclosed</th>\n",
       "      <td>15</td>\n",
       "      <td>3.35</td>\n",
       "      <td>50.19</td>\n",
       "      <td>4.56</td>\n",
       "    </tr>\n",
       "  </tbody>\n",
       "</table>\n",
       "</div>"
      ],
      "text/plain": [
       "                       Purchase Count  Average Purchase Price  \\\n",
       "Gender                                                          \n",
       "Female                            113                    3.20   \n",
       "Male                              652                    3.02   \n",
       "Other / Non-Disclosed              15                    3.35   \n",
       "\n",
       "                       Total Purchase Value  Avg Total Purchas per Person  \n",
       "Gender                                                                     \n",
       "Female                               361.94                          4.47  \n",
       "Male                                1967.64                          4.07  \n",
       "Other / Non-Disclosed                 50.19                          4.56  "
      ]
     },
     "execution_count": 11,
     "metadata": {},
     "output_type": "execute_result"
    }
   ],
   "source": [
    "####???? How to calculate average total purchase per person???? \n",
    "# total purchase value / unique player number\n",
    "\n",
    "#Purchasing Analysis (Gender)\n",
    "\n",
    "#Goup data by gender\n",
    "sorter = purchase_data_df[\"Gender\"].value_counts()\n",
    "sort_gender = purchase_data_df.groupby([\"Gender\"])\n",
    "#gender_count2 = gender_count\n",
    "\n",
    "#Create df and rename index and first column\n",
    "purchasing_analysis_gender_df = pd.DataFrame(sorter)\n",
    "purchasing_analysis_gender_df = purchasing_analysis_gender_df.rename(\n",
    "    columns= {\"Gender\": \"Purchase Count\"})\n",
    "\n",
    "\n",
    "#Isolate individual columns\n",
    "total_purchase_value = sort_gender[\"Price\"].sum()\n",
    "average_purchase_price = sort_gender[\"Price\"].mean().round(2)\n",
    "avg_tot_pur_per_person = (sort_gender[\"Price\"].sum() / gender_count).round(2)\n",
    "\n",
    "#Add in calculated columns\n",
    "purchasing_analysis_gender_df[\"Average Purchase Price\"] = average_purchase_price\n",
    "purchasing_analysis_gender_df[\"Total Purchase Value\"] = total_purchase_value\n",
    "purchasing_analysis_gender_df[\"Avg Total Purchas per Person\"] = avg_tot_pur_per_person \n",
    "\n",
    "#Clean up and name index\n",
    "purchasing_analysis_gender_df = purchasing_analysis_gender_df.rename_axis('Gender')\n",
    "purchasing_analysis_gender_df =purchasing_analysis_gender_df.sort_index()\n",
    "\n",
    "#avg_total_per_person_gender =\n",
    "purchasing_analysis_gender_df\n"
   ]
  },
  {
   "cell_type": "code",
   "execution_count": 254,
   "metadata": {},
   "outputs": [],
   "source": [
    "#Age Demographics\n",
    "#Columns: [\"Total Count\", \"Percentage of Players\"]\n",
    "#Rows: [ <10, 10-14, 15-19, 20-24, 25-29, 30-34, 35-39, 40+]\n"
   ]
  },
  {
   "cell_type": "code",
   "execution_count": null,
   "metadata": {},
   "outputs": [],
   "source": [
    "#Purchasing Analysis (Age)\n",
    "#Columns: [\"Purchase Count\", \"Average Purchase Price\", \"Total Purchase Value\",\n",
    "        # \"Average Purchase Total per Person by Age Group\"]\n",
    "#Rows: [ <10, 10-14, 15-19, 20-24, 25-29, 30-34, 35-39, 40+]\n",
    "\n"
   ]
  },
  {
   "cell_type": "code",
   "execution_count": null,
   "metadata": {},
   "outputs": [],
   "source": [
    "#Top Spenders (sort total purchase columns decending)\n",
    "#Columns:[\"Purchase Count\", \"Average Purchase Price\", \"Total Purchase Value\"]\n",
    "#RowS:[SN] (top 5 names)\n"
   ]
  },
  {
   "cell_type": "code",
   "execution_count": null,
   "metadata": {},
   "outputs": [],
   "source": [
    "#Most Popular Items (sort by Purchase Count decending)\n",
    "#Column: [\"Purchase Count\", \"Item Price\", \"Total Purchase Value\"]\n",
    "#Rows: [\"Item ID\"](of top 5 items: item number then item name)\n",
    "\n",
    "#gkk = df.groupby(['Team', 'Position'])"
   ]
  },
  {
   "cell_type": "code",
   "execution_count": null,
   "metadata": {},
   "outputs": [],
   "source": [
    "#Most Profitable Items (sort by Total Purchase Value decending)\n",
    "#Column: [\"Purchase Count\", \"Item Price\", \"Total Purchase Value\"]\n",
    "#Rows: [\"Item ID\"](of top 5 items: item number then item name)\n"
   ]
  },
  {
   "cell_type": "code",
   "execution_count": null,
   "metadata": {},
   "outputs": [],
   "source": [
    "#Three written observable trends based on data"
   ]
  }
 ],
 "metadata": {
  "kernelspec": {
   "display_name": "Python [conda env:PythonData] *",
   "language": "python",
   "name": "conda-env-PythonData-py"
  },
  "language_info": {
   "codemirror_mode": {
    "name": "ipython",
    "version": 3
   },
   "file_extension": ".py",
   "mimetype": "text/x-python",
   "name": "python",
   "nbconvert_exporter": "python",
   "pygments_lexer": "ipython3",
   "version": "3.6.10"
  }
 },
 "nbformat": 4,
 "nbformat_minor": 4
}
