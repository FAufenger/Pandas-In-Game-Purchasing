{
 "cells": [
  {
   "cell_type": "code",
   "execution_count": 1,
   "metadata": {},
   "outputs": [],
   "source": [
    "#Dependencies\n",
    "import pandas as pd\n",
    "\n",
    "#File load\n",
    "pymoli_purchase_data = \"Resources/HeroesOfPymoli_purchase_data.csv\"\n",
    "\n",
    "#Read file and store into pandas data frame\n",
    "purchase_data = pd.read_csv(pymoli_purchase_data)"
   ]
  },
  {
   "cell_type": "code",
   "execution_count": null,
   "metadata": {},
   "outputs": [],
   "source": [
    "#Player count (total numner of players)\n"
   ]
  },
  {
   "cell_type": "code",
   "execution_count": 1,
   "metadata": {},
   "outputs": [],
   "source": [
    "#Purchase Analysis (total)\n",
    "#Columns: [\"number of Number of Unique Items\", \"Average Purchase Price\", \n",
    "            #\"Total Number of Purchases\", \"Total Revenue\"]\n",
    "    "
   ]
  },
  {
   "cell_type": "code",
   "execution_count": 2,
   "metadata": {},
   "outputs": [],
   "source": [
    "#Gender Demographics\n",
    "#Columns: [\"Total Count\", \"Percentage of Players\"]\n",
    "#Rows: [\"Male\". \"Female\", \"Other / Non-Disclosed\"]\n"
   ]
  },
  {
   "cell_type": "code",
   "execution_count": null,
   "metadata": {},
   "outputs": [],
   "source": [
    "#Purchasing Analysis (Gender)\n",
    "#Columns: [\"Purchase Count\", \"Average Purchase Price\", \"Total Purchase Value\", \n",
    "        #\"Average Purchase Total per Person by Gender\"]\n",
    "#Rows: [\"Male\". \"Female\", \"Other / Non-Disclosed\"]\n"
   ]
  },
  {
   "cell_type": "code",
   "execution_count": null,
   "metadata": {},
   "outputs": [],
   "source": [
    "#Age Demographics\n",
    "#Columns: [\"Total Count\", \"Percentage of Players\"]\n",
    "#Rows: [ <10, 10-14, 15-19, 20-24, 25-29, 30-34, 35-39, 40+]\n"
   ]
  },
  {
   "cell_type": "code",
   "execution_count": null,
   "metadata": {},
   "outputs": [],
   "source": [
    "#Purchasing Analysis (Age)\n",
    "#Columns: [\"Purchase Count\", \"Average Purchase Price\", \"Total Purchase Value\",\n",
    "        # \"Average Purchase Total per Person by Age Group\"]\n",
    "#Rows: [ <10, 10-14, 15-19, 20-24, 25-29, 30-34, 35-39, 40+]\n",
    "\n"
   ]
  },
  {
   "cell_type": "code",
   "execution_count": null,
   "metadata": {},
   "outputs": [],
   "source": [
    "#Top Spenders (sort total purchase columns decending)\n",
    "#Columns:[\"Purchase Count\", \"Average Purchase Price\", \"Total Purchase Value\"]\n",
    "#RowS:[SN] (top 5 names)\n"
   ]
  },
  {
   "cell_type": "code",
   "execution_count": null,
   "metadata": {},
   "outputs": [],
   "source": [
    "#Most Popular Items (sort by Purchase Count decending)\n",
    "#Column: [\"Purchase Count\", \"Item Price\", \"Total Purchase Value\"]\n",
    "#Rows: [\"Item ID\"](of top 5 items: item number then item name)\n"
   ]
  },
  {
   "cell_type": "code",
   "execution_count": null,
   "metadata": {},
   "outputs": [],
   "source": [
    "#Most Profitable Items (sort by Total Purchase Value decending)\n",
    "#Column: [\"Purchase Count\", \"Item Price\", \"Total Purchase Value\"]\n",
    "#Rows: [\"Item ID\"](of top 5 items: item number then item name)\n"
   ]
  },
  {
   "cell_type": "code",
   "execution_count": null,
   "metadata": {},
   "outputs": [],
   "source": [
    "#Three written observable trends based on data"
   ]
  }
 ],
 "metadata": {
  "kernelspec": {
   "display_name": "Python [conda env:PythonData] *",
   "language": "python",
   "name": "conda-env-PythonData-py"
  },
  "language_info": {
   "codemirror_mode": {
    "name": "ipython",
    "version": 3
   },
   "file_extension": ".py",
   "mimetype": "text/x-python",
   "name": "python",
   "nbconvert_exporter": "python",
   "pygments_lexer": "ipython3",
   "version": "3.6.10"
  }
 },
 "nbformat": 4,
 "nbformat_minor": 4
}
