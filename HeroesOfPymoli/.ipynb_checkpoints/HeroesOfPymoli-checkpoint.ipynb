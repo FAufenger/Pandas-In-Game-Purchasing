{
 "cells": [
  {
   "cell_type": "code",
   "execution_count": null,
   "metadata": {},
   "outputs": [],
   "source": [
    "# Dependencies\n",
    "import pandas as pd\n",
    "import numpy as np\n",
    "\n",
    "# File load\n",
    "pymoli_purchase_data = \"Resources/HeroesOfPymoli_purchase_data.csv\"\n",
    "\n",
    "# Read file and store into pandas data frame\n",
    "purchase_data_df = pd.read_csv(pymoli_purchase_data)\n"
   ]
  },
  {
   "cell_type": "code",
   "execution_count": null,
   "metadata": {},
   "outputs": [],
   "source": [
    "# Player count (total number of players)\n",
    "\n",
    "# Count unique SN\n",
    "player_count = len(purchase_data_df[\"SN\"].unique())\n",
    "\n",
    "# Put above count in a new df\n",
    "player_count_df= pd.DataFrame({\"Total Players\": [player_count]})\n",
    "\n",
    "# Display df\n",
    "player_count_df"
   ]
  },
  {
   "cell_type": "code",
   "execution_count": null,
   "metadata": {},
   "outputs": [],
   "source": [
    "# Purchase Analysis (total)\n",
    "\n",
    "# Calculate each requester variable    \n",
    "number_unique_items = len(purchase_data_df[\"Item Name\"].unique())\n",
    "average_price = purchase_data_df[\"Price\"].mean(axis=0)\n",
    "number_of_purchases = len(purchase_data_df[\"Purchase ID\"].unique())\n",
    "total_revenue = sum(purchase_data_df[\"Price\"])\n",
    "\n",
    "#Clean up data with currency format\n",
    "average_price = \"${:.2f}\".format(average_price)\n",
    "total_revenue = \"${:.2f}\".format(total_revenue)\n",
    "\n",
    "# Put all calculated variables in a new df\n",
    "purchasing_analysis_df = pd.DataFrame({\"Number of Unique Items\": [number_unique_items],\n",
    "                                       \"Average Price\": [average_price],\n",
    "                                       \"Number of Purchases\": [number_of_purchases],\n",
    "                                       \"Total Revenue\": [total_revenue]})\n",
    "\n",
    "# Display df\n",
    "purchasing_analysis_df\n"
   ]
  },
  {
   "cell_type": "code",
   "execution_count": null,
   "metadata": {},
   "outputs": [],
   "source": [
    "#Gender Demographics\n",
    "#Columns: [\"Total Count\", \"Percentage of Players\"]\n",
    "#Rows: [\"Male\". \"Female\", \"Other / Non-Disclosed\"]\n"
   ]
  },
  {
   "cell_type": "code",
   "execution_count": null,
   "metadata": {},
   "outputs": [],
   "source": [
    "#Purchasing Analysis (Gender)\n",
    "#Columns: [\"Purchase Count\", \"Average Purchase Price\", \"Total Purchase Value\", \n",
    "        #\"Average Purchase Total per Person by Gender\"]\n",
    "#Rows: [\"Male\". \"Female\", \"Other / Non-Disclosed\"]\n"
   ]
  },
  {
   "cell_type": "code",
   "execution_count": null,
   "metadata": {},
   "outputs": [],
   "source": [
    "#Age Demographics\n",
    "#Columns: [\"Total Count\", \"Percentage of Players\"]\n",
    "#Rows: [ <10, 10-14, 15-19, 20-24, 25-29, 30-34, 35-39, 40+]\n"
   ]
  },
  {
   "cell_type": "code",
   "execution_count": null,
   "metadata": {},
   "outputs": [],
   "source": [
    "#Purchasing Analysis (Age)\n",
    "#Columns: [\"Purchase Count\", \"Average Purchase Price\", \"Total Purchase Value\",\n",
    "        # \"Average Purchase Total per Person by Age Group\"]\n",
    "#Rows: [ <10, 10-14, 15-19, 20-24, 25-29, 30-34, 35-39, 40+]\n",
    "\n"
   ]
  },
  {
   "cell_type": "code",
   "execution_count": null,
   "metadata": {},
   "outputs": [],
   "source": [
    "#Top Spenders (sort total purchase columns decending)\n",
    "#Columns:[\"Purchase Count\", \"Average Purchase Price\", \"Total Purchase Value\"]\n",
    "#RowS:[SN] (top 5 names)\n"
   ]
  },
  {
   "cell_type": "code",
   "execution_count": null,
   "metadata": {},
   "outputs": [],
   "source": [
    "#Most Popular Items (sort by Purchase Count decending)\n",
    "#Column: [\"Purchase Count\", \"Item Price\", \"Total Purchase Value\"]\n",
    "#Rows: [\"Item ID\"](of top 5 items: item number then item name)\n"
   ]
  },
  {
   "cell_type": "code",
   "execution_count": null,
   "metadata": {},
   "outputs": [],
   "source": [
    "#Most Profitable Items (sort by Total Purchase Value decending)\n",
    "#Column: [\"Purchase Count\", \"Item Price\", \"Total Purchase Value\"]\n",
    "#Rows: [\"Item ID\"](of top 5 items: item number then item name)\n"
   ]
  },
  {
   "cell_type": "code",
   "execution_count": null,
   "metadata": {},
   "outputs": [],
   "source": [
    "#Three written observable trends based on data"
   ]
  }
 ],
 "metadata": {
  "kernelspec": {
   "display_name": "Python [conda env:PythonData] *",
   "language": "python",
   "name": "conda-env-PythonData-py"
  },
  "language_info": {
   "codemirror_mode": {
    "name": "ipython",
    "version": 3
   },
   "file_extension": ".py",
   "mimetype": "text/x-python",
   "name": "python",
   "nbconvert_exporter": "python",
   "pygments_lexer": "ipython3",
   "version": "3.6.10"
  }
 },
 "nbformat": 4,
 "nbformat_minor": 4
}
