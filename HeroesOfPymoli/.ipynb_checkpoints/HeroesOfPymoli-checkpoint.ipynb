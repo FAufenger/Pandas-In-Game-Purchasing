{
 "cells": [
  {
   "cell_type": "code",
   "execution_count": null,
   "metadata": {},
   "outputs": [],
   "source": [
    "#Dependencies\n",
    "import pandas as pd\n",
    "import numpy as np\n",
    "\n",
    "#File load\n",
    "pymoli_purchase_data = \"Resources/HeroesOfPymoli_purchase_data.csv\"\n",
    "\n",
    "#Read file and store into pandas data frame\n",
    "purchase_data_df = pd.read_csv(pymoli_purchase_data)"
   ]
  },
  {
   "cell_type": "code",
   "execution_count": null,
   "metadata": {},
   "outputs": [],
   "source": [
    "#Player count (total number of players)\n",
    "\n",
    "#Count unique SN\n",
    "player_count = len(purchase_data_df[\"SN\"].unique())\n",
    "\n",
    "#Put above count in a new df\n",
    "player_count_df= pd.DataFrame({\"Total Players\": [player_count]})\n",
    "\n",
    "#Display df\n",
    "player_count_df"
   ]
  },
  {
   "cell_type": "code",
   "execution_count": null,
   "metadata": {},
   "outputs": [],
   "source": [
    "#Purchase Analysis (total)\n",
    "\n",
    "#Calculate each requested variable    \n",
    "number_unique_items = len(purchase_data_df[\"Item Name\"].unique())\n",
    "average_price = purchase_data_df[\"Price\"].mean(axis=0)\n",
    "number_of_purchases = len(purchase_data_df[\"Purchase ID\"].unique())\n",
    "total_revenue = sum(purchase_data_df[\"Price\"])\n",
    "\n",
    "#Clean up data with currency format\n",
    "average_price = \"${:.2f}\".format(average_price)\n",
    "total_revenue = \"${:.2f}\".format(total_revenue)\n",
    "\n",
    "#Put all calculated variables in a new df\n",
    "purchasing_analysis_df = pd.DataFrame({\"Number of Unique Items\": [number_unique_items],\n",
    "                                       \"Average Price\": [average_price],\n",
    "                                       \"Number of Purchases\": [number_of_purchases],\n",
    "                                       \"Total Revenue\": [total_revenue]})\n",
    "\n",
    "#Display df\n",
    "purchasing_analysis_df"
   ]
  },
  {
   "cell_type": "code",
   "execution_count": null,
   "metadata": {
    "scrolled": true
   },
   "outputs": [],
   "source": [
    "#Gender Demographics\n",
    "\n",
    "#Find all unique players\n",
    "unique_player_df = purchase_data_df.drop_duplicates(subset='SN')\n",
    "\n",
    "#Count all unique players by gender and make df\n",
    "gender_count = unique_player_df[\"Gender\"].value_counts()\n",
    "gender_demographics_df = pd.DataFrame(gender_count)\n",
    "\n",
    "#Find total player count and calculate percentage\n",
    "percentage_gender = unique_player_df[\"Gender\"].value_counts(normalize= True).map(\"{:.2%}\".format)\n",
    "\n",
    "#Add Percentage of Players to df                    \n",
    "gender_demographics_df[\"Percentage of Players\"]= percentage_gender\n",
    "\n",
    "#Rename totals column to clean up data\n",
    "gender_demographics_df = gender_demographics_df.rename(columns={\"Gender\": \"Total Count\"})\n",
    "\n",
    "#Display df\n",
    "gender_demographics_df"
   ]
  },
  {
   "cell_type": "code",
   "execution_count": null,
   "metadata": {
    "scrolled": true
   },
   "outputs": [],
   "source": [
    "#Purchasing Analysis (Gender)\n",
    "\n",
    "#Goup data by gender\n",
    "sorter = purchase_data_df[\"Gender\"].value_counts()\n",
    "sort_gender = purchase_data_df.groupby([\"Gender\"])\n",
    "\n",
    "#Create df and rename index and first column\n",
    "purchasing_analysis_gender_df = pd.DataFrame(sorter)\n",
    "purchasing_analysis_gender_df = purchasing_analysis_gender_df.rename(\n",
    "    columns= {\"Gender\": \"Purchase Count\"})\n",
    "\n",
    "#Isolate individual columns\n",
    "total_purchase_value = sort_gender[\"Price\"].sum()\n",
    "average_purchase_price = sort_gender[\"Price\"].mean()\n",
    "avg_tot_pur_per_person = (sort_gender[\"Price\"].sum() / gender_count)\n",
    "\n",
    "#Add in calculated columns and clean\n",
    "purchasing_analysis_gender_df[\"Average Purchase Price\"] = average_purchase_price.map(\"${:.2f}\".format)\n",
    "purchasing_analysis_gender_df[\"Total Purchase Value\"] = total_purchase_value.map(\"${:.2f}\".format)\n",
    "purchasing_analysis_gender_df[\"Avg Total Purchas per Person\"] = avg_tot_pur_per_person.map(\"${:.2f}\".format) \n",
    "\n",
    "#Clean up and name index\n",
    "purchasing_analysis_gender_df = purchasing_analysis_gender_df.rename_axis('Gender')\n",
    "purchasing_analysis_gender_df =purchasing_analysis_gender_df.sort_index()\n",
    "\n",
    "#Display df\n",
    "purchasing_analysis_gender_df"
   ]
  },
  {
   "cell_type": "code",
   "execution_count": null,
   "metadata": {},
   "outputs": [],
   "source": [
    "#Age Demographics\n",
    "\n",
    "#Create bins and labels\n",
    "age_bins = [0, 9, 14, 19, 24, 29, 34, 39, 199]\n",
    "age_labels = [\"<10\", \"10-14\", \"15-19\", \"20-24\", \"25-29\", \"30-34\", \"35-39\", \"40+\"] \n",
    "\n",
    "#Add bins and labels to df\n",
    "purchase_data_df[\"Age Group\"]= pd.cut(purchase_data_df[\"Age\"], age_bins, labels= age_labels)\n",
    "\n",
    "#Obtain unique player data and make new df\n",
    "unique_sn_df = purchase_data_df.drop_duplicates(subset='SN')\n",
    "age_group = unique_sn_df.groupby(\"Age Group\")\n",
    "age_demographics_df = age_group.count()\n",
    "\n",
    "#find requested values\n",
    "total_age_group = age_demographics_df[\"Gender\"].sum()\n",
    "percentage_age = (age_demographics_df[\"Gender\"] / total_age_group)\n",
    "\n",
    "#Add column and clean\n",
    "age_demographics_df[\"Percentage of Players\"] = percentage_age.map(\"{:.2%}\".format)\n",
    "age_demographics_df = age_demographics_df[[\"Gender\", \"Percentage of Players\"]] \n",
    "age_demographics_df.columns = [\"Total Count\", \"Percentage of Players\"]\n",
    "\n",
    "#Display df\n",
    "age_demographics_df"
   ]
  },
  {
   "cell_type": "code",
   "execution_count": null,
   "metadata": {},
   "outputs": [],
   "source": [
    "#Purchasing Analysis (Age)\n",
    "\n",
    "#Create bins and labels\n",
    "age_bins = [0, 9, 14, 19, 24, 29, 34, 39, 199]\n",
    "age_labels = [\"<10\", \"10-14\", \"15-19\", \"20-24\", \"25-29\", \"30-34\", \"35-39\", \"40+\"] \n",
    "\n",
    "#Add bins and labels to df\n",
    "purchase_data_df[\"Age Ranges\"]= pd.cut(purchase_data_df[\"Age\"], age_bins, labels= age_labels)\n",
    "\n",
    "#Obtain unique player data and make new df\n",
    "age_group2 = purchase_data_df.groupby(\"Age Ranges\")\n",
    "purchasing_analysis_age_df = age_group2.count()\n",
    "purchasing_analysis_age_df = purchasing_analysis_age_df[[\"Gender\"]]\n",
    "purchasing_analysis_age_df.columns = [\"Purchase Count\"] \n",
    "\n",
    "#Add bins and labels to df\n",
    "purchase_data_df[\"Age Group\"]= pd.cut(purchase_data_df[\"Age\"], age_bins, labels= age_labels)\n",
    "\n",
    "#Obtain unique player data and make new df\n",
    "unique_sn_df = purchase_data_df.drop_duplicates(subset='SN')\n",
    "uni_age_group = unique_sn_df.groupby(\"Age Group\")\n",
    "\n",
    "#Find reuqested values\n",
    "avg_purchase_price = age_group2[[\"Price\"]].mean()\n",
    "total_pur_val = age_group2[[\"Price\"]].sum()\n",
    "avg_pur_per = ( total_pur_val / uni_age_group[[\"Price\"]].count())\n",
    "\n",
    "#Add column\n",
    "purchasing_analysis_age_df[\"Average Purchase Price\"] = avg_purchase_price\n",
    "purchasing_analysis_age_df[\"Total Purchase Value\"] = total_pur_val\n",
    "purchasing_analysis_age_df[\"Avg Total Purchase per Person\"] = avg_pur_per\n",
    "\n",
    "#Clean\n",
    "purchasing_analysis_age_df[\"Average Purchase Price\"] = purchasing_analysis_age_df[\"Average Purchase Price\"].apply(\"${:.2f}\".format)\n",
    "purchasing_analysis_age_df[\"Total Purchase Value\"] = purchasing_analysis_age_df[\"Total Purchase Value\"].apply(\"${:,.2f}\".format)\n",
    "purchasing_analysis_age_df[\"Avg Total Purchase per Person\"] = purchasing_analysis_age_df[\"Avg Total Purchase per Person\"].apply(\"${:.2f}\".format)\n",
    "\n",
    "#Display df\n",
    "purchasing_analysis_age_df"
   ]
  },
  {
   "cell_type": "code",
   "execution_count": null,
   "metadata": {},
   "outputs": [],
   "source": [
    "#Top Spenders (sort total purchase columns decending)\n",
    "\n",
    "#Creat df for count of unique SN\n",
    "top_spender_count = purchase_data_df[\"SN\"].value_counts()\n",
    "top_spender_df = pd.DataFrame(top_spender_count)\n",
    "\n",
    "#Create group for all SN\n",
    "top_spending = purchase_data_df.groupby(\"SN\")\n",
    "\n",
    "#Pre-clean df\n",
    "top_spender_df.columns = [\"Purchase Count\"]\n",
    "top_spender_df = top_spender_df.rename_axis('SN')\n",
    "\n",
    "#Calculate desired columns\n",
    "avg_pur_price = top_spending[[\"Price\"]].mean()\n",
    "total_pur_value = top_spending[[\"Price\"]].sum() \n",
    "\n",
    "#Add columns to df\n",
    "top_spender_df[\"Average Purchase Price\"] = avg_pur_price\n",
    "top_spender_df[\"Total Purchase Value\"] = total_pur_value\n",
    "\n",
    "#Sort and clean df\n",
    "top_spender_df = top_spender_df.sort_values(by=[\"Total Purchase Value\"], ascending=False)\n",
    "top_spender_df[\"Average Purchase Price\"] = top_spender_df[\"Average Purchase Price\"].apply(\"${:,.2f}\".format)\n",
    "top_spender_df[\"Total Purchase Value\"] = top_spender_df[\"Total Purchase Value\"].apply(\"${:,.2f}\".format)\n",
    "\n",
    "#Display df\n",
    "top_spender_df.head()"
   ]
  },
  {
   "cell_type": "code",
   "execution_count": null,
   "metadata": {},
   "outputs": [],
   "source": [
    "#Most Popular Items (sort by Purchase Count decending)\n",
    "#Column: [\"Purchase Count\", \"Item Price\", \"Total Purchase Value\"]\n",
    "#Rows: [\"Item ID\"](of top 5 items: item number then item name)\n",
    "\n",
    "\n",
    "#gkk = df.groupby(['Team', 'Position'])"
   ]
  },
  {
   "cell_type": "code",
   "execution_count": null,
   "metadata": {},
   "outputs": [],
   "source": [
    "#Most Profitable Items (sort by Total Purchase Value decending)\n",
    "#Column: [\"Purchase Count\", \"Item Price\", \"Total Purchase Value\"]\n",
    "#Rows: [\"Item ID\"](of top 5 items: item number then item name)\n"
   ]
  },
  {
   "cell_type": "code",
   "execution_count": null,
   "metadata": {},
   "outputs": [],
   "source": [
    "#Three written observable trends based on data"
   ]
  }
 ],
 "metadata": {
  "kernelspec": {
   "display_name": "Python [conda env:PythonData] *",
   "language": "python",
   "name": "conda-env-PythonData-py"
  },
  "language_info": {
   "codemirror_mode": {
    "name": "ipython",
    "version": 3
   },
   "file_extension": ".py",
   "mimetype": "text/x-python",
   "name": "python",
   "nbconvert_exporter": "python",
   "pygments_lexer": "ipython3",
   "version": "3.6.10"
  }
 },
 "nbformat": 4,
 "nbformat_minor": 4
}
